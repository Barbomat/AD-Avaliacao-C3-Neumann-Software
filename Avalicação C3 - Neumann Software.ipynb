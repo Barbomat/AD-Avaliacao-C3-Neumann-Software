{
 "cells": [
  {
   "cell_type": "markdown",
   "metadata": {},
   "source": [
    "# Avaliação C3"
   ]
  },
  {
   "cell_type": "markdown",
   "metadata": {},
   "source": [
    "- Disciplina: Análise de Dados Aplicada a Computação\n",
    "- Professor: Howard Roatti\n",
    "- Turma: 5SC1\n",
    "- Atividade: Análise de Dados e Machine Learning Hackathon\n",
    "\n",
    "Integrantes:\n",
    "- Gabriel Cardozo Ansesqui Rangel\n",
    "- Lucas Carlos Giacomin\n",
    "- Matheus de Paula Barbosa\n",
    "- Nathan da Silva Bravin"
   ]
  },
  {
   "cell_type": "markdown",
   "metadata": {},
   "source": [
    "# Importações"
   ]
  },
  {
   "cell_type": "markdown",
   "metadata": {},
   "source": [
    "Possuem o objetivo de permitir a construção de estruturas de dados para podermos realizar análises; permite a importação de métodos úteis para classificação e mensurização dos dados; e também importam certos métodos de cálculo relevantes para certas questões."
   ]
  },
  {
   "cell_type": "code",
   "execution_count": 1,
   "metadata": {},
   "outputs": [],
   "source": [
    "# Importando biblioteca Pandas para a criação e manipulação de DataFrames.\n",
    "import pandas as pd\n",
    "\n",
    "# Importando o Numpy.\n",
    "import numpy as np\n",
    "\n",
    "# Importando o método PLT para visualizar graficamente os dados, cálculos e regressões que aplicarmos.\n",
    "import matplotlib.pylab as plt\n",
    "\n",
    "# Importando modelos para a realização dos testes de treino.\n",
    "from sklearn.linear_model import LogisticRegression\n",
    "from sklearn.neighbors import KNeighborsClassifier\n",
    "from sklearn.tree import DecisionTreeClassifier\n",
    "from sklearn.naive_bayes import MultinomialNB\n",
    "\n",
    "# Importando métricas de avaliações para os modelos.\n",
    "from sklearn.metrics import confusion_matrix, f1_score, auc, roc_auc_score, roc_curve\n",
    "\n",
    "# Importando o método de validação cruzada K-Fold, pontuação do modelo e o separador de dados para treino e teste.\n",
    "from sklearn.model_selection import KFold, cross_val_score,train_test_split"
   ]
  },
  {
   "cell_type": "code",
   "execution_count": 2,
   "metadata": {},
   "outputs": [
    {
     "data": {
      "text/html": [
       "<div>\n",
       "<style scoped>\n",
       "    .dataframe tbody tr th:only-of-type {\n",
       "        vertical-align: middle;\n",
       "    }\n",
       "\n",
       "    .dataframe tbody tr th {\n",
       "        vertical-align: top;\n",
       "    }\n",
       "\n",
       "    .dataframe thead th {\n",
       "        text-align: right;\n",
       "    }\n",
       "</style>\n",
       "<table border=\"1\" class=\"dataframe\">\n",
       "  <thead>\n",
       "    <tr style=\"text-align: right;\">\n",
       "      <th></th>\n",
       "      <th>0</th>\n",
       "      <th>1</th>\n",
       "      <th>2</th>\n",
       "      <th>3</th>\n",
       "      <th>4</th>\n",
       "      <th>5</th>\n",
       "      <th>6</th>\n",
       "      <th>7</th>\n",
       "      <th>8</th>\n",
       "      <th>9</th>\n",
       "      <th>...</th>\n",
       "      <th>76</th>\n",
       "      <th>77</th>\n",
       "      <th>78</th>\n",
       "      <th>79</th>\n",
       "      <th>80</th>\n",
       "      <th>81</th>\n",
       "      <th>82</th>\n",
       "      <th>83</th>\n",
       "      <th>84</th>\n",
       "      <th>85</th>\n",
       "    </tr>\n",
       "  </thead>\n",
       "  <tbody>\n",
       "    <tr>\n",
       "      <th>0</th>\n",
       "      <td>33</td>\n",
       "      <td>1</td>\n",
       "      <td>3</td>\n",
       "      <td>2</td>\n",
       "      <td>8</td>\n",
       "      <td>0</td>\n",
       "      <td>5</td>\n",
       "      <td>1</td>\n",
       "      <td>3</td>\n",
       "      <td>7</td>\n",
       "      <td>...</td>\n",
       "      <td>0</td>\n",
       "      <td>0</td>\n",
       "      <td>0</td>\n",
       "      <td>1</td>\n",
       "      <td>0</td>\n",
       "      <td>0</td>\n",
       "      <td>0</td>\n",
       "      <td>0</td>\n",
       "      <td>0</td>\n",
       "      <td>0</td>\n",
       "    </tr>\n",
       "    <tr>\n",
       "      <th>1</th>\n",
       "      <td>37</td>\n",
       "      <td>1</td>\n",
       "      <td>2</td>\n",
       "      <td>2</td>\n",
       "      <td>8</td>\n",
       "      <td>1</td>\n",
       "      <td>4</td>\n",
       "      <td>1</td>\n",
       "      <td>4</td>\n",
       "      <td>6</td>\n",
       "      <td>...</td>\n",
       "      <td>0</td>\n",
       "      <td>0</td>\n",
       "      <td>0</td>\n",
       "      <td>1</td>\n",
       "      <td>0</td>\n",
       "      <td>0</td>\n",
       "      <td>0</td>\n",
       "      <td>0</td>\n",
       "      <td>0</td>\n",
       "      <td>0</td>\n",
       "    </tr>\n",
       "    <tr>\n",
       "      <th>2</th>\n",
       "      <td>37</td>\n",
       "      <td>1</td>\n",
       "      <td>2</td>\n",
       "      <td>2</td>\n",
       "      <td>8</td>\n",
       "      <td>0</td>\n",
       "      <td>4</td>\n",
       "      <td>2</td>\n",
       "      <td>4</td>\n",
       "      <td>3</td>\n",
       "      <td>...</td>\n",
       "      <td>0</td>\n",
       "      <td>0</td>\n",
       "      <td>0</td>\n",
       "      <td>1</td>\n",
       "      <td>0</td>\n",
       "      <td>0</td>\n",
       "      <td>0</td>\n",
       "      <td>0</td>\n",
       "      <td>0</td>\n",
       "      <td>0</td>\n",
       "    </tr>\n",
       "    <tr>\n",
       "      <th>3</th>\n",
       "      <td>9</td>\n",
       "      <td>1</td>\n",
       "      <td>3</td>\n",
       "      <td>3</td>\n",
       "      <td>3</td>\n",
       "      <td>2</td>\n",
       "      <td>3</td>\n",
       "      <td>2</td>\n",
       "      <td>4</td>\n",
       "      <td>5</td>\n",
       "      <td>...</td>\n",
       "      <td>0</td>\n",
       "      <td>0</td>\n",
       "      <td>0</td>\n",
       "      <td>1</td>\n",
       "      <td>0</td>\n",
       "      <td>0</td>\n",
       "      <td>0</td>\n",
       "      <td>0</td>\n",
       "      <td>0</td>\n",
       "      <td>0</td>\n",
       "    </tr>\n",
       "    <tr>\n",
       "      <th>4</th>\n",
       "      <td>40</td>\n",
       "      <td>1</td>\n",
       "      <td>4</td>\n",
       "      <td>2</td>\n",
       "      <td>10</td>\n",
       "      <td>1</td>\n",
       "      <td>4</td>\n",
       "      <td>1</td>\n",
       "      <td>4</td>\n",
       "      <td>7</td>\n",
       "      <td>...</td>\n",
       "      <td>0</td>\n",
       "      <td>0</td>\n",
       "      <td>0</td>\n",
       "      <td>1</td>\n",
       "      <td>0</td>\n",
       "      <td>0</td>\n",
       "      <td>0</td>\n",
       "      <td>0</td>\n",
       "      <td>0</td>\n",
       "      <td>0</td>\n",
       "    </tr>\n",
       "  </tbody>\n",
       "</table>\n",
       "<p>5 rows × 86 columns</p>\n",
       "</div>"
      ],
      "text/plain": [
       "   0   1   2   3   4   5   6   7   8   9   ...  76  77  78  79  80  81  82  \\\n",
       "0  33   1   3   2   8   0   5   1   3   7  ...   0   0   0   1   0   0   0   \n",
       "1  37   1   2   2   8   1   4   1   4   6  ...   0   0   0   1   0   0   0   \n",
       "2  37   1   2   2   8   0   4   2   4   3  ...   0   0   0   1   0   0   0   \n",
       "3   9   1   3   3   3   2   3   2   4   5  ...   0   0   0   1   0   0   0   \n",
       "4  40   1   4   2  10   1   4   1   4   7  ...   0   0   0   1   0   0   0   \n",
       "\n",
       "   83  84  85  \n",
       "0   0   0   0  \n",
       "1   0   0   0  \n",
       "2   0   0   0  \n",
       "3   0   0   0  \n",
       "4   0   0   0  \n",
       "\n",
       "[5 rows x 86 columns]"
      ]
     },
     "execution_count": 2,
     "metadata": {},
     "output_type": "execute_result"
    }
   ],
   "source": [
    "# Importando dataset de dados de treino:\n",
    "dadosTreino = pd.read_csv(\"./Datasets/ticdata2000.txt\", sep=\"\t\", header=None)\n",
    "dadosTreino.head()"
   ]
  },
  {
   "cell_type": "code",
   "execution_count": 3,
   "metadata": {},
   "outputs": [
    {
     "data": {
      "text/html": [
       "<div>\n",
       "<style scoped>\n",
       "    .dataframe tbody tr th:only-of-type {\n",
       "        vertical-align: middle;\n",
       "    }\n",
       "\n",
       "    .dataframe tbody tr th {\n",
       "        vertical-align: top;\n",
       "    }\n",
       "\n",
       "    .dataframe thead th {\n",
       "        text-align: right;\n",
       "    }\n",
       "</style>\n",
       "<table border=\"1\" class=\"dataframe\">\n",
       "  <thead>\n",
       "    <tr style=\"text-align: right;\">\n",
       "      <th></th>\n",
       "      <th>0</th>\n",
       "      <th>1</th>\n",
       "      <th>2</th>\n",
       "      <th>3</th>\n",
       "      <th>4</th>\n",
       "      <th>5</th>\n",
       "      <th>6</th>\n",
       "      <th>7</th>\n",
       "      <th>8</th>\n",
       "      <th>9</th>\n",
       "      <th>...</th>\n",
       "      <th>75</th>\n",
       "      <th>76</th>\n",
       "      <th>77</th>\n",
       "      <th>78</th>\n",
       "      <th>79</th>\n",
       "      <th>80</th>\n",
       "      <th>81</th>\n",
       "      <th>82</th>\n",
       "      <th>83</th>\n",
       "      <th>84</th>\n",
       "    </tr>\n",
       "  </thead>\n",
       "  <tbody>\n",
       "    <tr>\n",
       "      <th>0</th>\n",
       "      <td>33</td>\n",
       "      <td>1</td>\n",
       "      <td>4</td>\n",
       "      <td>2</td>\n",
       "      <td>8</td>\n",
       "      <td>0</td>\n",
       "      <td>6</td>\n",
       "      <td>0</td>\n",
       "      <td>3</td>\n",
       "      <td>5</td>\n",
       "      <td>...</td>\n",
       "      <td>0</td>\n",
       "      <td>0</td>\n",
       "      <td>0</td>\n",
       "      <td>0</td>\n",
       "      <td>1</td>\n",
       "      <td>0</td>\n",
       "      <td>0</td>\n",
       "      <td>0</td>\n",
       "      <td>0</td>\n",
       "      <td>0</td>\n",
       "    </tr>\n",
       "    <tr>\n",
       "      <th>1</th>\n",
       "      <td>6</td>\n",
       "      <td>1</td>\n",
       "      <td>3</td>\n",
       "      <td>2</td>\n",
       "      <td>2</td>\n",
       "      <td>0</td>\n",
       "      <td>5</td>\n",
       "      <td>0</td>\n",
       "      <td>4</td>\n",
       "      <td>5</td>\n",
       "      <td>...</td>\n",
       "      <td>2</td>\n",
       "      <td>0</td>\n",
       "      <td>0</td>\n",
       "      <td>0</td>\n",
       "      <td>1</td>\n",
       "      <td>0</td>\n",
       "      <td>0</td>\n",
       "      <td>0</td>\n",
       "      <td>0</td>\n",
       "      <td>0</td>\n",
       "    </tr>\n",
       "    <tr>\n",
       "      <th>2</th>\n",
       "      <td>39</td>\n",
       "      <td>1</td>\n",
       "      <td>3</td>\n",
       "      <td>3</td>\n",
       "      <td>9</td>\n",
       "      <td>1</td>\n",
       "      <td>4</td>\n",
       "      <td>2</td>\n",
       "      <td>3</td>\n",
       "      <td>5</td>\n",
       "      <td>...</td>\n",
       "      <td>1</td>\n",
       "      <td>0</td>\n",
       "      <td>0</td>\n",
       "      <td>0</td>\n",
       "      <td>1</td>\n",
       "      <td>0</td>\n",
       "      <td>0</td>\n",
       "      <td>0</td>\n",
       "      <td>0</td>\n",
       "      <td>0</td>\n",
       "    </tr>\n",
       "    <tr>\n",
       "      <th>3</th>\n",
       "      <td>9</td>\n",
       "      <td>1</td>\n",
       "      <td>2</td>\n",
       "      <td>3</td>\n",
       "      <td>3</td>\n",
       "      <td>2</td>\n",
       "      <td>3</td>\n",
       "      <td>2</td>\n",
       "      <td>4</td>\n",
       "      <td>5</td>\n",
       "      <td>...</td>\n",
       "      <td>0</td>\n",
       "      <td>0</td>\n",
       "      <td>0</td>\n",
       "      <td>0</td>\n",
       "      <td>1</td>\n",
       "      <td>0</td>\n",
       "      <td>0</td>\n",
       "      <td>0</td>\n",
       "      <td>0</td>\n",
       "      <td>0</td>\n",
       "    </tr>\n",
       "    <tr>\n",
       "      <th>4</th>\n",
       "      <td>31</td>\n",
       "      <td>1</td>\n",
       "      <td>2</td>\n",
       "      <td>4</td>\n",
       "      <td>7</td>\n",
       "      <td>0</td>\n",
       "      <td>2</td>\n",
       "      <td>0</td>\n",
       "      <td>7</td>\n",
       "      <td>9</td>\n",
       "      <td>...</td>\n",
       "      <td>0</td>\n",
       "      <td>0</td>\n",
       "      <td>0</td>\n",
       "      <td>0</td>\n",
       "      <td>1</td>\n",
       "      <td>0</td>\n",
       "      <td>0</td>\n",
       "      <td>0</td>\n",
       "      <td>0</td>\n",
       "      <td>0</td>\n",
       "    </tr>\n",
       "  </tbody>\n",
       "</table>\n",
       "<p>5 rows × 85 columns</p>\n",
       "</div>"
      ],
      "text/plain": [
       "   0   1   2   3   4   5   6   7   8   9   ...  75  76  77  78  79  80  81  \\\n",
       "0  33   1   4   2   8   0   6   0   3   5  ...   0   0   0   0   1   0   0   \n",
       "1   6   1   3   2   2   0   5   0   4   5  ...   2   0   0   0   1   0   0   \n",
       "2  39   1   3   3   9   1   4   2   3   5  ...   1   0   0   0   1   0   0   \n",
       "3   9   1   2   3   3   2   3   2   4   5  ...   0   0   0   0   1   0   0   \n",
       "4  31   1   2   4   7   0   2   0   7   9  ...   0   0   0   0   1   0   0   \n",
       "\n",
       "   82  83  84  \n",
       "0   0   0   0  \n",
       "1   0   0   0  \n",
       "2   0   0   0  \n",
       "3   0   0   0  \n",
       "4   0   0   0  \n",
       "\n",
       "[5 rows x 85 columns]"
      ]
     },
     "execution_count": 3,
     "metadata": {},
     "output_type": "execute_result"
    }
   ],
   "source": [
    "# Importando dataset de dados de validação:\n",
    "dadosValidacao = pd.read_csv(\"./Datasets/ticeval2000.txt\", sep=\"\t\", header=None)\n",
    "dadosValidacao.head()"
   ]
  },
  {
   "cell_type": "code",
   "execution_count": 4,
   "metadata": {},
   "outputs": [
    {
     "data": {
      "text/html": [
       "<div>\n",
       "<style scoped>\n",
       "    .dataframe tbody tr th:only-of-type {\n",
       "        vertical-align: middle;\n",
       "    }\n",
       "\n",
       "    .dataframe tbody tr th {\n",
       "        vertical-align: top;\n",
       "    }\n",
       "\n",
       "    .dataframe thead th {\n",
       "        text-align: right;\n",
       "    }\n",
       "</style>\n",
       "<table border=\"1\" class=\"dataframe\">\n",
       "  <thead>\n",
       "    <tr style=\"text-align: right;\">\n",
       "      <th></th>\n",
       "      <th>0</th>\n",
       "    </tr>\n",
       "  </thead>\n",
       "  <tbody>\n",
       "    <tr>\n",
       "      <th>0</th>\n",
       "      <td>0</td>\n",
       "    </tr>\n",
       "    <tr>\n",
       "      <th>1</th>\n",
       "      <td>1</td>\n",
       "    </tr>\n",
       "    <tr>\n",
       "      <th>2</th>\n",
       "      <td>0</td>\n",
       "    </tr>\n",
       "    <tr>\n",
       "      <th>3</th>\n",
       "      <td>0</td>\n",
       "    </tr>\n",
       "    <tr>\n",
       "      <th>4</th>\n",
       "      <td>0</td>\n",
       "    </tr>\n",
       "  </tbody>\n",
       "</table>\n",
       "</div>"
      ],
      "text/plain": [
       "   0\n",
       "0  0\n",
       "1  1\n",
       "2  0\n",
       "3  0\n",
       "4  0"
      ]
     },
     "execution_count": 4,
     "metadata": {},
     "output_type": "execute_result"
    }
   ],
   "source": [
    "# Importando dataset de rótulos de classificação:\n",
    "dadosClassificao = pd.read_csv(\"./Datasets/tictgts2000.txt\", header=None)\n",
    "dadosClassificao.head()"
   ]
  },
  {
   "cell_type": "markdown",
   "metadata": {},
   "source": [
    "# Análise Exploratória de Dados"
   ]
  },
  {
   "cell_type": "markdown",
   "metadata": {},
   "source": [
    "Os dados utilizados nesse trabalho são de uma empresa de seguros, onde foram coletadas diversas informações sobre o tipo de consumidor que possui estes contratos.\n",
    "\n",
    "Os dados de cada dataset estão codificados e possuem um dicionário, onde cada tabela se refere a um desses valores. Por exemplo, a última tabela se refere que o individuo possui ou não uma apólice contratada."
   ]
  },
  {
   "cell_type": "markdown",
   "metadata": {},
   "source": [
    "## Métricas"
   ]
  },
  {
   "cell_type": "code",
   "execution_count": 5,
   "metadata": {},
   "outputs": [
    {
     "data": {
      "text/html": [
       "<div>\n",
       "<style scoped>\n",
       "    .dataframe tbody tr th:only-of-type {\n",
       "        vertical-align: middle;\n",
       "    }\n",
       "\n",
       "    .dataframe tbody tr th {\n",
       "        vertical-align: top;\n",
       "    }\n",
       "\n",
       "    .dataframe thead th {\n",
       "        text-align: right;\n",
       "    }\n",
       "</style>\n",
       "<table border=\"1\" class=\"dataframe\">\n",
       "  <thead>\n",
       "    <tr style=\"text-align: right;\">\n",
       "      <th></th>\n",
       "      <th>0</th>\n",
       "      <th>1</th>\n",
       "      <th>2</th>\n",
       "      <th>3</th>\n",
       "      <th>4</th>\n",
       "      <th>5</th>\n",
       "      <th>6</th>\n",
       "      <th>7</th>\n",
       "      <th>8</th>\n",
       "      <th>9</th>\n",
       "      <th>...</th>\n",
       "      <th>76</th>\n",
       "      <th>77</th>\n",
       "      <th>78</th>\n",
       "      <th>79</th>\n",
       "      <th>80</th>\n",
       "      <th>81</th>\n",
       "      <th>82</th>\n",
       "      <th>83</th>\n",
       "      <th>84</th>\n",
       "      <th>85</th>\n",
       "    </tr>\n",
       "  </thead>\n",
       "  <tbody>\n",
       "    <tr>\n",
       "      <th>count</th>\n",
       "      <td>5822.000000</td>\n",
       "      <td>5822.000000</td>\n",
       "      <td>5822.000000</td>\n",
       "      <td>5822.000000</td>\n",
       "      <td>5822.000000</td>\n",
       "      <td>5822.000000</td>\n",
       "      <td>5822.000000</td>\n",
       "      <td>5822.000000</td>\n",
       "      <td>5822.000000</td>\n",
       "      <td>5822.000000</td>\n",
       "      <td>...</td>\n",
       "      <td>5822.000000</td>\n",
       "      <td>5822.000000</td>\n",
       "      <td>5822.000000</td>\n",
       "      <td>5822.000000</td>\n",
       "      <td>5822.000000</td>\n",
       "      <td>5822.000000</td>\n",
       "      <td>5822.000000</td>\n",
       "      <td>5822.000000</td>\n",
       "      <td>5822.000000</td>\n",
       "      <td>5822.000000</td>\n",
       "    </tr>\n",
       "    <tr>\n",
       "      <th>mean</th>\n",
       "      <td>24.253349</td>\n",
       "      <td>1.110615</td>\n",
       "      <td>2.678805</td>\n",
       "      <td>2.991240</td>\n",
       "      <td>5.773617</td>\n",
       "      <td>0.696496</td>\n",
       "      <td>4.626932</td>\n",
       "      <td>1.069907</td>\n",
       "      <td>3.258502</td>\n",
       "      <td>6.183442</td>\n",
       "      <td>...</td>\n",
       "      <td>0.005325</td>\n",
       "      <td>0.006527</td>\n",
       "      <td>0.004638</td>\n",
       "      <td>0.570079</td>\n",
       "      <td>0.000515</td>\n",
       "      <td>0.006012</td>\n",
       "      <td>0.031776</td>\n",
       "      <td>0.007901</td>\n",
       "      <td>0.014256</td>\n",
       "      <td>0.059773</td>\n",
       "    </tr>\n",
       "    <tr>\n",
       "      <th>std</th>\n",
       "      <td>12.846706</td>\n",
       "      <td>0.405842</td>\n",
       "      <td>0.789835</td>\n",
       "      <td>0.814589</td>\n",
       "      <td>2.856760</td>\n",
       "      <td>1.003234</td>\n",
       "      <td>1.715843</td>\n",
       "      <td>1.017503</td>\n",
       "      <td>1.597647</td>\n",
       "      <td>1.909482</td>\n",
       "      <td>...</td>\n",
       "      <td>0.072782</td>\n",
       "      <td>0.080532</td>\n",
       "      <td>0.077403</td>\n",
       "      <td>0.562058</td>\n",
       "      <td>0.022696</td>\n",
       "      <td>0.081632</td>\n",
       "      <td>0.210986</td>\n",
       "      <td>0.090463</td>\n",
       "      <td>0.119996</td>\n",
       "      <td>0.237087</td>\n",
       "    </tr>\n",
       "    <tr>\n",
       "      <th>min</th>\n",
       "      <td>1.000000</td>\n",
       "      <td>1.000000</td>\n",
       "      <td>1.000000</td>\n",
       "      <td>1.000000</td>\n",
       "      <td>1.000000</td>\n",
       "      <td>0.000000</td>\n",
       "      <td>0.000000</td>\n",
       "      <td>0.000000</td>\n",
       "      <td>0.000000</td>\n",
       "      <td>0.000000</td>\n",
       "      <td>...</td>\n",
       "      <td>0.000000</td>\n",
       "      <td>0.000000</td>\n",
       "      <td>0.000000</td>\n",
       "      <td>0.000000</td>\n",
       "      <td>0.000000</td>\n",
       "      <td>0.000000</td>\n",
       "      <td>0.000000</td>\n",
       "      <td>0.000000</td>\n",
       "      <td>0.000000</td>\n",
       "      <td>0.000000</td>\n",
       "    </tr>\n",
       "    <tr>\n",
       "      <th>25%</th>\n",
       "      <td>10.000000</td>\n",
       "      <td>1.000000</td>\n",
       "      <td>2.000000</td>\n",
       "      <td>2.000000</td>\n",
       "      <td>3.000000</td>\n",
       "      <td>0.000000</td>\n",
       "      <td>4.000000</td>\n",
       "      <td>0.000000</td>\n",
       "      <td>2.000000</td>\n",
       "      <td>5.000000</td>\n",
       "      <td>...</td>\n",
       "      <td>0.000000</td>\n",
       "      <td>0.000000</td>\n",
       "      <td>0.000000</td>\n",
       "      <td>0.000000</td>\n",
       "      <td>0.000000</td>\n",
       "      <td>0.000000</td>\n",
       "      <td>0.000000</td>\n",
       "      <td>0.000000</td>\n",
       "      <td>0.000000</td>\n",
       "      <td>0.000000</td>\n",
       "    </tr>\n",
       "    <tr>\n",
       "      <th>50%</th>\n",
       "      <td>30.000000</td>\n",
       "      <td>1.000000</td>\n",
       "      <td>3.000000</td>\n",
       "      <td>3.000000</td>\n",
       "      <td>7.000000</td>\n",
       "      <td>0.000000</td>\n",
       "      <td>5.000000</td>\n",
       "      <td>1.000000</td>\n",
       "      <td>3.000000</td>\n",
       "      <td>6.000000</td>\n",
       "      <td>...</td>\n",
       "      <td>0.000000</td>\n",
       "      <td>0.000000</td>\n",
       "      <td>0.000000</td>\n",
       "      <td>1.000000</td>\n",
       "      <td>0.000000</td>\n",
       "      <td>0.000000</td>\n",
       "      <td>0.000000</td>\n",
       "      <td>0.000000</td>\n",
       "      <td>0.000000</td>\n",
       "      <td>0.000000</td>\n",
       "    </tr>\n",
       "    <tr>\n",
       "      <th>75%</th>\n",
       "      <td>35.000000</td>\n",
       "      <td>1.000000</td>\n",
       "      <td>3.000000</td>\n",
       "      <td>3.000000</td>\n",
       "      <td>8.000000</td>\n",
       "      <td>1.000000</td>\n",
       "      <td>6.000000</td>\n",
       "      <td>2.000000</td>\n",
       "      <td>4.000000</td>\n",
       "      <td>7.000000</td>\n",
       "      <td>...</td>\n",
       "      <td>0.000000</td>\n",
       "      <td>0.000000</td>\n",
       "      <td>0.000000</td>\n",
       "      <td>1.000000</td>\n",
       "      <td>0.000000</td>\n",
       "      <td>0.000000</td>\n",
       "      <td>0.000000</td>\n",
       "      <td>0.000000</td>\n",
       "      <td>0.000000</td>\n",
       "      <td>0.000000</td>\n",
       "    </tr>\n",
       "    <tr>\n",
       "      <th>max</th>\n",
       "      <td>41.000000</td>\n",
       "      <td>10.000000</td>\n",
       "      <td>5.000000</td>\n",
       "      <td>6.000000</td>\n",
       "      <td>10.000000</td>\n",
       "      <td>9.000000</td>\n",
       "      <td>9.000000</td>\n",
       "      <td>5.000000</td>\n",
       "      <td>9.000000</td>\n",
       "      <td>9.000000</td>\n",
       "      <td>...</td>\n",
       "      <td>1.000000</td>\n",
       "      <td>1.000000</td>\n",
       "      <td>2.000000</td>\n",
       "      <td>7.000000</td>\n",
       "      <td>1.000000</td>\n",
       "      <td>2.000000</td>\n",
       "      <td>3.000000</td>\n",
       "      <td>2.000000</td>\n",
       "      <td>2.000000</td>\n",
       "      <td>1.000000</td>\n",
       "    </tr>\n",
       "  </tbody>\n",
       "</table>\n",
       "<p>8 rows × 86 columns</p>\n",
       "</div>"
      ],
      "text/plain": [
       "                0            1            2            3            4   \\\n",
       "count  5822.000000  5822.000000  5822.000000  5822.000000  5822.000000   \n",
       "mean     24.253349     1.110615     2.678805     2.991240     5.773617   \n",
       "std      12.846706     0.405842     0.789835     0.814589     2.856760   \n",
       "min       1.000000     1.000000     1.000000     1.000000     1.000000   \n",
       "25%      10.000000     1.000000     2.000000     2.000000     3.000000   \n",
       "50%      30.000000     1.000000     3.000000     3.000000     7.000000   \n",
       "75%      35.000000     1.000000     3.000000     3.000000     8.000000   \n",
       "max      41.000000    10.000000     5.000000     6.000000    10.000000   \n",
       "\n",
       "                5            6            7            8            9   ...  \\\n",
       "count  5822.000000  5822.000000  5822.000000  5822.000000  5822.000000  ...   \n",
       "mean      0.696496     4.626932     1.069907     3.258502     6.183442  ...   \n",
       "std       1.003234     1.715843     1.017503     1.597647     1.909482  ...   \n",
       "min       0.000000     0.000000     0.000000     0.000000     0.000000  ...   \n",
       "25%       0.000000     4.000000     0.000000     2.000000     5.000000  ...   \n",
       "50%       0.000000     5.000000     1.000000     3.000000     6.000000  ...   \n",
       "75%       1.000000     6.000000     2.000000     4.000000     7.000000  ...   \n",
       "max       9.000000     9.000000     5.000000     9.000000     9.000000  ...   \n",
       "\n",
       "                76           77           78           79           80  \\\n",
       "count  5822.000000  5822.000000  5822.000000  5822.000000  5822.000000   \n",
       "mean      0.005325     0.006527     0.004638     0.570079     0.000515   \n",
       "std       0.072782     0.080532     0.077403     0.562058     0.022696   \n",
       "min       0.000000     0.000000     0.000000     0.000000     0.000000   \n",
       "25%       0.000000     0.000000     0.000000     0.000000     0.000000   \n",
       "50%       0.000000     0.000000     0.000000     1.000000     0.000000   \n",
       "75%       0.000000     0.000000     0.000000     1.000000     0.000000   \n",
       "max       1.000000     1.000000     2.000000     7.000000     1.000000   \n",
       "\n",
       "                81           82           83           84           85  \n",
       "count  5822.000000  5822.000000  5822.000000  5822.000000  5822.000000  \n",
       "mean      0.006012     0.031776     0.007901     0.014256     0.059773  \n",
       "std       0.081632     0.210986     0.090463     0.119996     0.237087  \n",
       "min       0.000000     0.000000     0.000000     0.000000     0.000000  \n",
       "25%       0.000000     0.000000     0.000000     0.000000     0.000000  \n",
       "50%       0.000000     0.000000     0.000000     0.000000     0.000000  \n",
       "75%       0.000000     0.000000     0.000000     0.000000     0.000000  \n",
       "max       2.000000     3.000000     2.000000     2.000000     1.000000  \n",
       "\n",
       "[8 rows x 86 columns]"
      ]
     },
     "execution_count": 5,
     "metadata": {},
     "output_type": "execute_result"
    }
   ],
   "source": [
    "# O método describe mostra diversas métricas sobre o dataset:\n",
    "dadosTreino.describe()"
   ]
  },
  {
   "cell_type": "code",
   "execution_count": 6,
   "metadata": {},
   "outputs": [
    {
     "data": {
      "text/plain": [
       "0     int64\n",
       "1     int64\n",
       "2     int64\n",
       "3     int64\n",
       "4     int64\n",
       "      ...  \n",
       "81    int64\n",
       "82    int64\n",
       "83    int64\n",
       "84    int64\n",
       "85    int64\n",
       "Length: 86, dtype: object"
      ]
     },
     "execution_count": 6,
     "metadata": {},
     "output_type": "execute_result"
    }
   ],
   "source": [
    "# Mostra os tipos de dados inclusos no dataset:\n",
    "dadosTreino.dtypes"
   ]
  },
  {
   "cell_type": "code",
   "execution_count": 7,
   "metadata": {},
   "outputs": [
    {
     "data": {
      "text/plain": [
       "0     0\n",
       "1     0\n",
       "2     0\n",
       "3     0\n",
       "4     0\n",
       "     ..\n",
       "81    0\n",
       "82    0\n",
       "83    0\n",
       "84    0\n",
       "85    0\n",
       "Length: 86, dtype: int64"
      ]
     },
     "execution_count": 7,
     "metadata": {},
     "output_type": "execute_result"
    }
   ],
   "source": [
    "# Mostra se há algum valor faltante na tabela:\n",
    "dadosTreino.isna().sum()"
   ]
  },
  {
   "cell_type": "markdown",
   "metadata": {},
   "source": [
    "## Gráficos:"
   ]
  },
  {
   "cell_type": "code",
   "execution_count": 8,
   "metadata": {},
   "outputs": [
    {
     "data": {
      "text/plain": [
       "<AxesSubplot:ylabel='Frequency'>"
      ]
     },
     "execution_count": 8,
     "metadata": {},
     "output_type": "execute_result"
    },
    {
     "data": {
      "image/png": "[encoded data removed]",
      "text/plain": [
       "<Figure size 432x288 with 1 Axes>"
      ]
     },
     "metadata": {
      "needs_background": "light"
     },
     "output_type": "display_data"
    }
   ],
   "source": [
    "dadosTreino[0].plot.hist(bins=100)"
   ]
  },
  {
   "cell_type": "markdown",
   "metadata": {},
   "source": [
    "**Comentário:** O histograma acima mostra o subtipo de cada cliente, tendo em vista isso, podemos observar que a maior parte do subtipo de família que está mais suscetível a solicitar o seguro são famílias grandes de baixa classe, e com base nos segundos subtipos que mais solicitam podemos constatar que maior parte dos pedidos são por famílias tradicionais que possívelmente não possuem outros meios de repor seus bens perdidos."
   ]
  },
  {
   "cell_type": "code",
   "execution_count": 9,
   "metadata": {},
   "outputs": [
    {
     "data": {
      "text/plain": [
       "<AxesSubplot:ylabel='Frequency'>"
      ]
     },
     "execution_count": 9,
     "metadata": {},
     "output_type": "execute_result"
    },
    {
     "data": {
      "image/png": "[encoded data removed]",
      "text/plain": [
       "<Figure size 432x288 with 1 Axes>"
      ]
     },
     "metadata": {
      "needs_background": "light"
     },
     "output_type": "display_data"
    }
   ],
   "source": [
    "dadosTreino[3].plot.hist(bins=24)"
   ]
  },
  {
   "cell_type": "markdown",
   "metadata": {},
   "source": [
    "**Comentário:** O histograma acima mostra a faixa de idades de cada cliente. A esmagadora maioria dos pedidos são compostos por pessoas entre 40 e 50 anos, ou seja, de meia idade, que tendem mais a tomar ações conservadoras."
   ]
  },
  {
   "cell_type": "code",
   "execution_count": 10,
   "metadata": {},
   "outputs": [
    {
     "data": {
      "text/plain": [
       "<AxesSubplot:ylabel='Frequency'>"
      ]
     },
     "execution_count": 10,
     "metadata": {},
     "output_type": "execute_result"
    },
    {
     "data": {
      "image/png": "[encoded data removed]",
      "text/plain": [
       "<Figure size 432x288 with 1 Axes>"
      ]
     },
     "metadata": {
      "needs_background": "light"
     },
     "output_type": "display_data"
    }
   ],
   "source": [
    "dadosTreino[4].plot.hist(bins=24)"
   ]
  },
  {
   "cell_type": "markdown",
   "metadata": {},
   "source": [
    "**Comentário:** O histograma acima mostra o tipo principal de cada cliente. Os dados nos mostram que a maior parte dos pedidos são constituidos por famílias majoritariamente por adultos, esta análise pode não ser útil posteriormente pois crianças e adolescentes não podem utilizar carros, o que logicamente coloca os adultos em posição superior."
   ]
  },
  {
   "cell_type": "markdown",
   "metadata": {},
   "source": [
    "# Balanceamento de Dados"
   ]
  },
  {
   "cell_type": "markdown",
   "metadata": {},
   "source": [
    "Realizamos o balanceamento em ambos datasets de treino e classificação para conseguirmos melhores resultados."
   ]
  },
  {
   "cell_type": "code",
   "execution_count": 11,
   "metadata": {},
   "outputs": [
    {
     "name": "stdout",
     "output_type": "stream",
     "text": [
      "Dados de treino originais:\n"
     ]
    },
    {
     "data": {
      "text/plain": [
       "0    5474\n",
       "1     348\n",
       "Name: 85, dtype: int64"
      ]
     },
     "execution_count": 11,
     "metadata": {},
     "output_type": "execute_result"
    }
   ],
   "source": [
    "# Exibição da quantidade de indivíduos com seguros mobiliários no dataset de treino:\n",
    "print('Dados de treino originais:')\n",
    "dadosTreino[85].value_counts()"
   ]
  },
  {
   "cell_type": "code",
   "execution_count": 12,
   "metadata": {},
   "outputs": [
    {
     "name": "stdout",
     "output_type": "stream",
     "text": [
      "Dados de treino balanceados:\n"
     ]
    },
    {
     "data": {
      "text/plain": [
       "0    348\n",
       "1    348\n",
       "Name: 85, dtype: int64"
      ]
     },
     "execution_count": 12,
     "metadata": {},
     "output_type": "execute_result"
    }
   ],
   "source": [
    "# Realizando o balanceamento dos dados de treino:\n",
    "qt = dadosTreino[85].value_counts()[1] / dadosTreino[85].value_counts()[0]\n",
    "dadosTreinoBalanceados = dadosTreino[dadosTreino[85] == 0].sample(frac = qt, random_state = 1)\n",
    "dadosTreinoBalanceados = dadosTreinoBalanceados.append(dadosTreino[dadosTreino[85] == 1])\n",
    "\n",
    "# Exibindo os dados balançeados:\n",
    "print('Dados de treino balanceados:')\n",
    "dadosTreinoBalanceados[85].value_counts()"
   ]
  },
  {
   "cell_type": "code",
   "execution_count": 13,
   "metadata": {},
   "outputs": [
    {
     "name": "stdout",
     "output_type": "stream",
     "text": [
      "Dados de classificação originais:\n"
     ]
    },
    {
     "data": {
      "text/plain": [
       "0    3762\n",
       "1     238\n",
       "Name: 0, dtype: int64"
      ]
     },
     "execution_count": 13,
     "metadata": {},
     "output_type": "execute_result"
    }
   ],
   "source": [
    "# Exibição da quantidade de indivíduos com seguros mobiliários no dataset de classificação:\n",
    "print('Dados de classificação originais:')\n",
    "dadosClassificao[0].value_counts()"
   ]
  },
  {
   "cell_type": "code",
   "execution_count": 14,
   "metadata": {},
   "outputs": [
    {
     "name": "stdout",
     "output_type": "stream",
     "text": [
      "Dados de classificação balanceados:\n"
     ]
    },
    {
     "data": {
      "text/plain": [
       "0    348\n",
       "1    348\n",
       "Name: 85, dtype: int64"
      ]
     },
     "execution_count": 14,
     "metadata": {},
     "output_type": "execute_result"
    }
   ],
   "source": [
    "# Realizando o balanceamento dos dados de classificação:\n",
    "qt = dadosClassificao[0].value_counts()[1] / dadosClassificao[0].value_counts()[0]\n",
    "dadosClassificaoBalanceados = dadosClassificao[dadosClassificao[0] == 0].sample(frac = qt, random_state = 1)\n",
    "dadosClassificaoBalanceados = dadosClassificaoBalanceados.append(dadosClassificao[dadosClassificao[0] == 1])\n",
    "\n",
    "# Exibindo os dados balançeados:\n",
    "print('Dados de classificação balanceados:')\n",
    "dadosTreinoBalanceados[85].value_counts()"
   ]
  },
  {
   "cell_type": "markdown",
   "metadata": {},
   "source": [
    "# Treino de Modelos"
   ]
  },
  {
   "cell_type": "markdown",
   "metadata": {},
   "source": [
    "**Modelos escolhidos:**\n",
    "\n",
    "Foram escolhidos os quatro modelos abaixo para análise, com somente um (o melhor) sendo aplicado nos dados propostos:\n",
    "\n",
    " - Regressão Logistica\n",
    " - kNN\n",
    " - Árvore de Decisão\n",
    " - Naive Bayes\n",
    "\n",
    "Descrevemos mais sobre esses modelos em cada treino."
   ]
  },
  {
   "cell_type": "markdown",
   "metadata": {},
   "source": [
    "**Método de validação cruzada escolhida:**\n",
    "\n",
    "Usamos o método de validação cruzada K-Fold em cada modelo.\n",
    "\n",
    "O método K-Fold consiste em dividir o conjunto de dados total em k subconjuntos mutuamente exclusivos de mesmo tamanho, onde um subconjunto é usado para teste e os k-1 restantes são usados ​​para estimativa de parâmetros, calculando a precisão do modelo."
   ]
  },
  {
   "cell_type": "markdown",
   "metadata": {},
   "source": [
    "**Métricas utilizadas:**\n",
    "\n",
    "Utilizamos diversas métricas para verificar a qualidade do modelo.\n",
    "\n",
    "Usamos a **matriz de confusão** para tirar as métricas abaixo:\n",
    "\n",
    "- **Precisão _(Precision)_:** Proporção de amostras classificadas\n",
    "corretamente como \"Sim\" e realmente são \"Sim\".\n",
    "- **Revocação _(Recall)_:** Proporção de amostras que são \"Sim\" e que foram classificadas como \"Sim\".\n",
    "- **Especificidade _(Specificity)_:** Proporção de amostras que são \"Não\" e que foram classificados como \"Não\".\n",
    "- **F1 Score** é a média harmônica entre as métricas de precisão e revocação.\n",
    "    - **Micro** é a média das somas de cada amostra.\n",
    "    - **Macro** é a média global da soma dos que são realmente \"Sim\", os realmente \"Não\" e os \"Não\".\n",
    "- **ROC** é uma curva traçada pela taxa de verdadeiros positivos e falsos positivo.\n",
    "- **AUC** é a área abaixo da linha ROC _(area under the ROC)_, este número resume a linha ROC em um valor, agregandos todos os limiares da ROC. "
   ]
  },
  {
   "cell_type": "markdown",
   "metadata": {},
   "source": [
    "## Modelo de Regressão Logística (_Logistic Regression_)"
   ]
  },
  {
   "cell_type": "markdown",
   "metadata": {},
   "source": [
    "Apesar de possuir regressão no nome, é um modelo de classificação; É baseado no modelo clássico de regressão, em outras palavras, utiliza-se intervalos de variáveis em um gráfico e analisa-se os mais próximos da reta de regressão, com seus resultados podendo ser entre 0 e 1.\n",
    "- Não atua somente como classificador, mas atua conjuntamente fornecendo a probabilidade para cada variável classificada.\n",
    "- É fácil de implementar e de interpretar, além de ser bastante performático.\n",
    "- Escolhemos esse modelo pois os coeficientes permitem que nós possamos visualizar o quão relevante é o atributo para a predição.\n",
    "- É menos suscetível a overfitting do que os outros algorítmos de classificação.\n",
    "- Requer uma atenção redobrada no pré-processamento dos dados."
   ]
  },
  {
   "cell_type": "code",
   "execution_count": 15,
   "metadata": {},
   "outputs": [
    {
     "name": "stdout",
     "output_type": "stream",
     "text": [
      "Resultados do modelo:\n",
      " [0.66666667 0.38095238 0.47619048 0.52380952 0.71428571 0.57142857\n",
      " 0.52380952 0.66666667 0.66666667 0.5       ]\n",
      "\n",
      "Média dos resultados: 0.569047619047619\n",
      "\n",
      "Predições feitas:\n",
      " [0 0 0 0 0 0 0 1 0 1 0 0 0 0 1 0 0 0 0 1 0 0 0 0 0 0 0 0 0 0 0 0 1 1 0 1 0\n",
      " 1 0 0 0 1 1 0 0 0 0 0 0 0 1 1 0 0 0 0 0 1 1 0 1 0 0 0 0 0 0 0 0 0 0 1 0 0\n",
      " 0 0 1 1 0 0 0 1 0 1 0 0 1 0 1 0 0 1 1 0 1 1 1 0 1 0 1 0 1 0 0 0 0 0 1 0 0\n",
      " 0 0 1 0 0 0 0 0 0 0 1 1 1 1 0 0 0 0 0 0 1 1 0 0 0 0 0 0 0 1 0 0 0 1 1 1 0\n",
      " 0 0 0 0 0 1 0 0 0 0 1 0 0 0 0 0 1 0 0 0 0 0 1 0 1 1 0 1 0 0 0 1 0 1 0 1 0\n",
      " 0 1 0 0 0 0 0 0 1 1 0 0 0 1 0 0 0 1 0 1 0 0 0 0 0 0 0 1 0 0 1 0 0 1 0 0 1\n",
      " 0 1 0 0 1 0 1 1 0 0 1 0 0 1 0 1 0 0 0 1 1 0 0 0 0 1 0 0 1 1 0 1 1 0 0 0 1\n",
      " 1 0 1 1 0 0 0 1 1 0 0 0 0 0 1 1 1 0 0 1 0 0 0 0 0 0 0 0 0 0 0 0 0 1 0 0 0\n",
      " 0 1 0 0 0 0 1 0 0 0 1 0 0 0 0 0 0 0 1 0 0 1 0 0 1 1 0 0 1 0 0 0 0 0 0 0 0\n",
      " 0 0 0 0 0 0 0 1 1 0 0 1 0 0 0 0 1 1 1 0 1 1 0 0 1 1 1 1 0 1 1 0 1 1 1 1 1\n",
      " 0 1 1 0 1 1 1 1 0 0 1 0 1 1 1 1 1 1 1 1 1 1 1 0 1 1 1 0 0 1 0 1 1 1 1 1 1\n",
      " 1 1 1 1 1 1 0 1 1 1 0 0 1 0 0 1 1 0 0 0 1 1 0 1 0 0 0 1 1 0 1 1 1 1 1 1 1\n",
      " 1 1 1 0 1 1 1 1 1 0 1 1 1 1 0 0 0 1 1 1 0 1 0 0 1 1 1 0 0 1 1 0 0 1 1 0 0\n",
      " 1 1 0 1 1 1 1 1 0 1 1 1 1 1 1 0 0 1 1 1 1 0 1 0 1 1 1 1 1 1 1 1 0 1 1 1 0\n",
      " 1 1 1 1 1 1 0 1 0 1 1 0 0 1 0 1 1 1 1 0 0 0 0 0 1 1 1 1 1 1 1 0 0 1 0 1 1\n",
      " 0 1 0 1 0 1 0 1 0 1 1 0 1 1 1 1 1 1 1 0 1 0 1 1 1 0 1 1 1 1 0 1 1 1 0 0 1\n",
      " 1 0 1 1 0 1 1 0 0 1 1 1 1 0 1 1 1 1 1 0 0 1 1 1 0 1 1 1 1 1 0 1 0 1 1 0 1\n",
      " 1 1 1 1 1 1 0 1 0 1 1 0 1 0 1 0 1 0 1 1 0 0 1 1 1 1 1 1 1 1 1 1 0 0 1 1 1\n",
      " 1 0 1 0 0 0 1 1 0 1 1 1 1 1 1 1 1 1 1 1 1 1 1 1 1 1 1 1 1 0]\n"
     ]
    }
   ],
   "source": [
    "# Separação dos dados:\n",
    "X = dadosTreinoBalanceados.drop([85], axis=1)\n",
    "y = dadosTreinoBalanceados[85]\n",
    "X_train, X_test, y_train, y_test = train_test_split(X, y, test_size = 0.3, random_state = 4)\n",
    "\n",
    "# Criação e treino do modelo de Regressão Logística:\n",
    "model = LogisticRegression(penalty = 'l2', C = 1e42, solver = 'liblinear')\n",
    "model.fit(X_train, y_train)\n",
    "lr_pred = model.predict(X)\n",
    "\n",
    "# Aplicação da validação cruzada K-Fold:\n",
    "kfold_validation = KFold(10)\n",
    "result = cross_val_score(model, X_test, y_test, cv = kfold_validation)\n",
    "\n",
    "# Exibição dos resultados da validação:\n",
    "print('Resultados do modelo:\\n', result)\n",
    "print('\\nMédia dos resultados:', np.mean(result))\n",
    "print('\\nPredições feitas:\\n', lr_pred)"
   ]
  },
  {
   "cell_type": "markdown",
   "metadata": {},
   "source": [
    "**Comentário:** Baseado nos resultados obtidos pelo valor da validação cruzada, é observado que o modelo possui resultado não muito acima de 50%, o que o coloca com resultado mediano, porém não confiável o suficiente para ser implementado."
   ]
  },
  {
   "cell_type": "code",
   "execution_count": 16,
   "metadata": {},
   "outputs": [
    {
     "name": "stdout",
     "output_type": "stream",
     "text": [
      "Matriz de confusão:\n"
     ]
    },
    {
     "data": {
      "text/plain": [
       "array([[250,  98],\n",
       "       [102, 246]], dtype=int64)"
      ]
     },
     "execution_count": 16,
     "metadata": {},
     "output_type": "execute_result"
    }
   ],
   "source": [
    "# Criação da matriz de confusão:\n",
    "print('Matriz de confusão:')\n",
    "c_matrix = confusion_matrix(y, model.predict(X))\n",
    "c_matrix"
   ]
  },
  {
   "cell_type": "code",
   "execution_count": 17,
   "metadata": {},
   "outputs": [
    {
     "name": "stdout",
     "output_type": "stream",
     "text": [
      "Revocação (Recall):  0.7183908045977011 \n",
      "\n",
      "Precisão (Precision):  0.7102272727272727 \n",
      "\n",
      "Especificidade (Specificity):  0.7068965517241379 \n",
      "\n",
      "F1 Macro:  0.712634186622626 \n",
      "\n",
      "F1 Micro:  0.7126436781609196\n"
     ]
    }
   ],
   "source": [
    "# Exibição das métricas de avaliação do modelo:\n",
    "print('Revocação (Recall): ', c_matrix[0, 0] / sum(c_matrix[0, :]), '\\n')\n",
    "print('Precisão (Precision): ', c_matrix[0, 0] / sum(c_matrix[:, 0]), '\\n')\n",
    "print('Especificidade (Specificity): ', c_matrix[1, 1] / sum(c_matrix[1, :]), '\\n')\n",
    "print('F1 Macro: ', f1_score(y, model.predict(X), average='macro'), '\\n')\n",
    "print('F1 Micro: ', f1_score(y, model.predict(X), average='micro'))"
   ]
  },
  {
   "cell_type": "markdown",
   "metadata": {},
   "source": [
    "**Comentário:** Os resultados aparentam ser um bom modelo ou possuirem resultados medianos."
   ]
  },
  {
   "cell_type": "code",
   "execution_count": 18,
   "metadata": {},
   "outputs": [
    {
     "data": {
      "image/png": "[encoded data removed]",
      "text/plain": [
       "<Figure size 432x288 with 1 Axes>"
      ]
     },
     "metadata": {
      "needs_background": "light"
     },
     "output_type": "display_data"
    }
   ],
   "source": [
    "# Realizando cálculo da curva ROC e métrica AUC:\n",
    "probabilidades_y = model.predict_proba(X)[::,1]\n",
    "falso_positivo, verdadeiro_positivo, _ = roc_curve(y, probabilidades_y)\n",
    "auc = roc_auc_score(y, probabilidades_y)\n",
    "\n",
    "# Visualização da curva ROC de acordo com a métrica AUC:\n",
    "plt.plot(falso_positivo, verdadeiro_positivo, label = \"AUC = \" + str(auc))\n",
    "plt.ylabel('Taxa de Positivos Verdadeiros')\n",
    "plt.xlabel('Taxa de Falsos Positivos')\n",
    "plt.legend(loc = 4)\n",
    "plt.show()"
   ]
  },
  {
   "cell_type": "markdown",
   "metadata": {},
   "source": [
    "**Comentário:** A curva ROC obtida nos mostra que o modelo possui aceitável acertividade. A métrica AUC nos informa de forma semelhante sobre a qualidade das previsões, e como podemos ver acima, a taxa de acerto é também aceitável."
   ]
  },
  {
   "cell_type": "markdown",
   "metadata": {},
   "source": [
    "## Modelo kNN"
   ]
  },
  {
   "cell_type": "markdown",
   "metadata": {},
   "source": [
    "kNN é um classificador onde o aprendizado é baseado em quão semelhante um dado é a outro. O treinamento consiste em vetores n-dimensionais.\n",
    "\n",
    " - Tendo em vista que o modelo Naive Bayes não correlaciona as variáveis, neste modelo buscamos predições correlacionando as variáveis, para um ponto de vista diferente. \n",
    " - O método funciona calculando a distância entre os itens, buscando os mais próximos dos que queremos classificar e calculando a moda das características.\n",
    " - Neste modelo não é utilizado a base de treino para desenvolver uma função de discriminação, ou seja, não possui fases de treino propriamente ditos. Por isso o modelo tende a memorizar todo o dataset e calcular todas as distâncias para promover uma predição, o que não é performático e requer cuidados extras.\n",
    " - É bom para datasets pequenos onde não se sabe muitas informações.\n",
    " - Possui problemas com overfitting e underfitting, dependendo do tamanho do \"K\" escolhido."
   ]
  },
  {
   "cell_type": "code",
   "execution_count": 19,
   "metadata": {},
   "outputs": [
    {
     "name": "stdout",
     "output_type": "stream",
     "text": [
      "Resultados do modelo:\n",
      " [0.71428571 0.47619048 0.52380952 0.57142857 0.76190476 0.47619048\n",
      " 0.57142857 0.57142857 0.52380952 0.75      ]\n",
      "\n",
      "Média dos resultados: 0.5940476190476189\n",
      "\n",
      "Predições feitas:\n",
      " [0 0 0 1 0 0 0 1 0 0 0 0 0 0 0 0 0 1 0 1 0 0 0 0 0 0 0 0 0 0 0 0 0 1 0 0 0\n",
      " 1 0 0 0 0 0 0 0 0 0 0 0 0 0 0 0 0 0 0 1 1 0 0 0 0 0 0 0 0 0 0 0 1 0 1 0 0\n",
      " 0 0 0 0 0 1 0 0 0 0 0 0 0 0 0 0 0 1 1 1 1 0 0 0 0 0 1 0 0 0 0 0 0 0 0 0 0\n",
      " 1 0 1 0 0 0 0 0 0 0 0 0 1 0 0 0 0 0 0 0 1 0 0 0 1 1 0 0 1 1 0 0 0 1 0 0 1\n",
      " 1 0 0 0 0 1 0 0 0 1 0 0 0 0 0 0 1 0 0 0 0 0 0 0 0 1 1 1 0 0 0 0 0 0 1 1 1\n",
      " 0 0 0 0 0 0 0 0 0 1 0 0 1 1 0 0 0 1 1 0 0 0 0 0 0 0 0 0 0 0 0 0 1 1 0 1 0\n",
      " 0 0 0 0 0 0 0 0 1 0 1 1 0 0 0 0 0 0 0 0 1 0 0 0 0 0 0 0 1 1 0 0 0 0 0 0 1\n",
      " 0 0 0 1 0 0 0 1 0 0 0 0 0 0 0 0 1 0 0 1 1 0 0 0 0 1 0 0 0 0 0 0 1 0 0 1 0\n",
      " 0 0 0 1 0 0 1 0 1 0 1 0 1 1 0 0 1 0 1 0 0 1 0 0 1 0 0 0 1 1 0 1 0 1 0 0 0\n",
      " 0 0 1 0 0 1 0 0 0 0 1 0 0 0 0 1 1 0 0 0 1 1 0 0 0 0 0 1 0 1 1 0 0 1 0 1 0\n",
      " 1 0 1 0 1 1 1 1 0 1 1 0 1 0 1 1 0 0 1 0 0 0 0 1 1 1 1 1 0 1 0 0 0 1 0 0 0\n",
      " 0 1 1 1 1 1 0 1 1 0 0 0 0 0 0 1 1 1 1 1 1 1 0 1 0 1 0 1 0 1 0 1 1 1 0 1 1\n",
      " 1 1 1 0 1 0 1 1 0 0 1 1 1 1 0 0 1 1 1 1 0 1 1 0 1 1 0 0 1 1 1 0 0 1 1 1 0\n",
      " 1 0 1 1 0 0 1 0 0 1 0 1 1 1 1 0 0 0 1 1 1 1 0 0 0 0 1 1 1 1 1 1 1 1 0 0 0\n",
      " 1 1 1 1 1 1 0 1 0 1 1 1 0 1 0 0 1 1 1 1 0 0 0 0 1 0 1 1 1 1 1 0 0 1 0 0 1\n",
      " 0 1 0 1 0 1 0 0 1 0 1 0 1 0 1 1 1 1 0 0 1 0 1 0 1 0 1 1 1 1 0 1 0 0 1 1 1\n",
      " 1 0 1 0 0 0 0 0 0 1 1 1 0 0 1 1 1 1 1 0 0 0 1 1 0 1 1 1 0 0 0 0 0 1 1 0 0\n",
      " 0 1 1 1 1 0 0 1 0 0 1 1 1 0 1 0 0 0 1 1 0 0 1 1 1 1 0 1 1 1 0 0 1 0 1 1 1\n",
      " 1 0 1 0 0 0 0 1 0 1 1 0 0 0 0 1 1 1 1 1 1 1 1 0 1 1 1 1 1 0]\n"
     ]
    }
   ],
   "source": [
    "# Separação dos dados:\n",
    "X = dadosTreinoBalanceados.drop([85], axis=1)\n",
    "y = dadosTreinoBalanceados[85]\n",
    "X_train, X_test, y_train, y_test = train_test_split(X, y, test_size = 0.3, random_state = 4)\n",
    "\n",
    "# Criação e treino do modelo kNN:\n",
    "model = KNeighborsClassifier(n_neighbors=20)\n",
    "model.fit(X_train, y_train)\n",
    "knn_pred = model.predict(X)\n",
    "\n",
    "# Aplicação da validação cruzada K-Fold:\n",
    "kfold_validation = KFold(10)\n",
    "result = cross_val_score(model, X_test, y_test, cv = kfold_validation)\n",
    "\n",
    "# Exibição dos resultados da validação:\n",
    "print('Resultados do modelo:\\n', result)\n",
    "print('\\nMédia dos resultados:', np.mean(result))\n",
    "print('\\nPredições feitas:\\n', knn_pred)"
   ]
  },
  {
   "cell_type": "markdown",
   "metadata": {},
   "source": [
    "**Comentário:** Baseado nos resultados obtidos pelo valor da validação cruzada, é observado que o modelo possui uma média maior que o anterior, mas ainda o coloca como um resultado mediano em parâmetros gerais."
   ]
  },
  {
   "cell_type": "code",
   "execution_count": 20,
   "metadata": {},
   "outputs": [
    {
     "name": "stdout",
     "output_type": "stream",
     "text": [
      "Matriz de confusão:\n"
     ]
    },
    {
     "data": {
      "text/plain": [
       "array([[272,  76],\n",
       "       [151, 197]], dtype=int64)"
      ]
     },
     "execution_count": 20,
     "metadata": {},
     "output_type": "execute_result"
    }
   ],
   "source": [
    "# Criação da matriz de confusão:\n",
    "print('Matriz de confusão:')\n",
    "c_matrix = confusion_matrix(y, model.predict(X))\n",
    "c_matrix"
   ]
  },
  {
   "cell_type": "code",
   "execution_count": 21,
   "metadata": {},
   "outputs": [
    {
     "name": "stdout",
     "output_type": "stream",
     "text": [
      "Revocação (Recall):  0.7816091954022989 \n",
      "\n",
      "Precisão (Precision):  0.6430260047281324 \n",
      "\n",
      "Especificidade (Specificity):  0.5660919540229885 \n",
      "\n",
      "F1 Macro:  0.6700188600036342 \n",
      "\n",
      "F1 Micro:  0.6738505747126436\n"
     ]
    }
   ],
   "source": [
    "# Exibição das métricas de avaliação do modelo:\n",
    "print('Revocação (Recall): ', c_matrix[0, 0] / sum(c_matrix[0, :]), '\\n')\n",
    "print('Precisão (Precision): ', c_matrix[0, 0] / sum(c_matrix[:, 0]), '\\n')\n",
    "print('Especificidade (Specificity): ', c_matrix[1, 1] / sum(c_matrix[1, :]), '\\n')\n",
    "print('F1 Macro: ', f1_score(y, model.predict(X), average='macro'), '\\n')\n",
    "print('F1 Micro: ', f1_score(y, model.predict(X), average='micro'))"
   ]
  },
  {
   "cell_type": "markdown",
   "metadata": {},
   "source": [
    "**Comentário:** Pelos os resultados o modelo aparenta ser mediano, com valores inferiores as métricas anteriores apresentadas pelo modelo de Regressão Linear."
   ]
  },
  {
   "cell_type": "code",
   "execution_count": 22,
   "metadata": {},
   "outputs": [
    {
     "data": {
      "image/png": "[encoded data removed]",
      "text/plain": [
       "<Figure size 432x288 with 1 Axes>"
      ]
     },
     "metadata": {
      "needs_background": "light"
     },
     "output_type": "display_data"
    }
   ],
   "source": [
    "# Realizando cálculo da curva ROC e métrica AUC:\n",
    "probabilidades_y = model.predict_proba(X)[::,1]\n",
    "falso_positivo, verdadeiro_positivo, _ = roc_curve(y, probabilidades_y)\n",
    "auc = roc_auc_score(y, probabilidades_y)\n",
    "\n",
    "# Visualização da curva ROC de acordo com a métrica AUC:\n",
    "plt.plot(falso_positivo, verdadeiro_positivo, label = \"AUC = \" + str(auc))\n",
    "plt.ylabel('Taxa de Positivos Verdadeiros')\n",
    "plt.xlabel('Taxa de Falsos Positivos')\n",
    "plt.legend(loc = 4)\n",
    "plt.show()"
   ]
  },
  {
   "cell_type": "markdown",
   "metadata": {},
   "source": [
    "**Comentário:** A curva ROC obtida nos mostra que o modelo possui aceitável acertividade, porém possui um resultado reduzido em comparação ao de Regressão Linear, o mesmo ocorre com a métrica AUC. "
   ]
  },
  {
   "cell_type": "markdown",
   "metadata": {},
   "source": [
    "## Modelo Árvore de Decisão (_Decision Tree_)"
   ]
  },
  {
   "cell_type": "markdown",
   "metadata": {},
   "source": [
    "Na Árvore de Decisão, o modelo captura dados, entende seus relacionamentos, realiza cálculos para entender quais nós são mais importantes e ajusta as condições.\n",
    "\n",
    " - Modelo baseado na estrutura de dados Árvore Binária como uma raiz e vários ramos e folhas sendo os dados. \n",
    " - O modelo foi escolhido por precisar de pouco esforço na preparação de dados, ou seja, não necessita de normalização, e por conseguir lidar com valores faltantes. \n",
    " - Além disso, é um modelo muito popular para problemas de classificação, regressão e análise exploratória. \n",
    " - Apesar disso, há de ser ter um maior cuidado pois pequenas variações podem gerar árvores completamente diferentes umas das outras."
   ]
  },
  {
   "cell_type": "code",
   "execution_count": 23,
   "metadata": {},
   "outputs": [
    {
     "name": "stdout",
     "output_type": "stream",
     "text": [
      "Resultados do modelo:\n",
      " [0.71428571 0.47619048 0.42857143 0.61904762 0.66666667 0.28571429\n",
      " 0.52380952 0.61904762 0.61904762 0.7       ]\n",
      "\n",
      "Média dos resultados: 0.5652380952380953\n",
      "\n",
      "Predições feitas:\n",
      " [0 0 0 1 0 0 0 0 1 0 0 0 0 0 1 0 0 0 0 0 0 0 0 0 0 0 0 0 0 0 0 0 0 1 0 0 0\n",
      " 0 0 0 0 0 0 0 0 0 0 0 0 0 0 0 0 0 0 0 0 0 0 0 0 0 0 0 0 1 1 1 0 0 1 0 0 0\n",
      " 1 1 0 0 0 0 0 0 0 0 0 0 0 0 0 1 1 0 1 0 0 0 0 0 0 0 0 0 0 0 0 0 0 0 0 0 0\n",
      " 0 0 0 0 0 0 0 0 0 1 0 0 0 0 0 0 0 0 0 0 0 0 0 0 0 0 0 0 0 0 0 0 0 0 0 0 0\n",
      " 0 0 0 0 0 1 1 0 0 0 0 1 0 0 0 1 1 0 1 0 0 0 1 0 0 0 0 1 0 0 0 0 0 0 0 0 0\n",
      " 0 0 0 0 1 0 0 0 0 1 0 0 0 0 0 0 0 0 0 0 0 0 0 0 1 0 0 0 1 0 0 0 0 0 0 0 0\n",
      " 0 0 1 1 0 0 0 1 0 0 0 0 0 0 0 0 0 0 0 0 0 0 0 0 0 1 0 0 0 1 0 0 1 0 0 0 0\n",
      " 0 0 1 0 0 0 0 0 1 0 0 0 0 0 0 0 1 0 0 0 0 0 0 0 0 0 0 1 0 0 0 0 0 0 0 0 0\n",
      " 0 0 0 1 0 1 0 0 0 0 0 0 0 0 0 0 0 0 0 0 0 0 0 0 1 0 0 0 0 0 0 0 0 0 0 0 0\n",
      " 0 0 0 0 0 0 0 0 0 0 0 0 0 0 1 1 1 0 1 1 0 1 1 0 1 0 1 1 1 1 1 1 1 1 1 1 1\n",
      " 1 1 1 1 1 1 1 1 0 0 1 1 1 1 1 1 1 1 1 0 1 1 1 1 1 1 1 1 0 1 1 0 1 1 1 1 1\n",
      " 1 1 1 1 1 1 1 1 1 1 0 0 1 1 1 1 1 0 0 1 1 1 1 1 1 0 1 1 1 1 1 1 1 1 1 0 1\n",
      " 1 1 1 0 1 1 1 1 1 0 1 1 1 1 1 1 1 1 1 1 1 0 1 1 1 1 1 0 1 1 1 0 1 1 1 1 0\n",
      " 1 1 1 1 1 1 1 1 1 1 1 1 1 1 1 1 1 1 1 1 1 1 1 0 1 1 1 1 1 1 1 1 1 1 1 1 1\n",
      " 0 1 0 1 1 1 1 1 1 1 1 1 1 0 0 1 1 1 1 1 1 1 0 1 1 1 1 1 1 1 1 1 1 1 1 1 1\n",
      " 0 1 1 1 1 1 1 1 1 1 1 1 1 1 0 1 1 1 1 1 1 1 1 1 1 1 1 1 1 1 1 1 1 1 1 0 1\n",
      " 0 1 1 1 1 1 0 1 1 1 1 1 1 1 1 1 1 1 1 1 1 1 0 1 0 1 1 1 1 1 0 1 1 1 1 0 0\n",
      " 1 1 1 1 1 1 1 1 1 1 1 1 1 1 1 1 1 1 1 1 1 1 1 1 1 1 0 0 1 1 1 1 1 1 1 0 1\n",
      " 1 1 1 1 1 1 1 1 1 1 1 1 1 1 1 1 1 1 1 1 1 1 1 1 1 1 1 1 1 1]\n"
     ]
    }
   ],
   "source": [
    "# Separação dos dados para teste e treino:\n",
    "X = dadosTreinoBalanceados.drop([85], axis=1)\n",
    "y = dadosTreinoBalanceados[85]\n",
    "X_train, X_test, y_train, y_test = train_test_split(X, y, test_size=0.3, random_state=4)\n",
    "\n",
    "# Criação e treino do modelo da Árvore de Decisão:\n",
    "model = DecisionTreeClassifier()\n",
    "model.fit(X_train, y_train)\n",
    "dt_pred = model.predict(X)\n",
    "\n",
    "# Aplicação da validação cruzada K-Fold:\n",
    "kfold_validation = KFold(10)\n",
    "result = cross_val_score(model, X_test, y_test, cv = kfold_validation)\n",
    "\n",
    "# Exibição dos resultados da validação:\n",
    "print('Resultados do modelo:\\n', result)\n",
    "print('\\nMédia dos resultados:', np.mean(result))\n",
    "print('\\nPredições feitas:\\n', dt_pred)"
   ]
  },
  {
   "cell_type": "markdown",
   "metadata": {},
   "source": [
    "**Comentário:** Baseado nos resultados obtidos pelo valor da validação cruzada, é observado que o modelo possui a menor média de todos os modelos até agora, mesmo assim o modelo ainda está dentro dos padrões mínimos de qualidade."
   ]
  },
  {
   "cell_type": "code",
   "execution_count": 24,
   "metadata": {},
   "outputs": [
    {
     "name": "stdout",
     "output_type": "stream",
     "text": [
      "Matriz de confusão:\n"
     ]
    },
    {
     "data": {
      "text/plain": [
       "array([[308,  40],\n",
       "       [ 40, 308]], dtype=int64)"
      ]
     },
     "execution_count": 24,
     "metadata": {},
     "output_type": "execute_result"
    }
   ],
   "source": [
    "# Criação da matriz de confusão:\n",
    "print('Matriz de confusão:')\n",
    "c_matrix = confusion_matrix(y, model.predict(X))\n",
    "c_matrix"
   ]
  },
  {
   "cell_type": "code",
   "execution_count": 25,
   "metadata": {},
   "outputs": [
    {
     "name": "stdout",
     "output_type": "stream",
     "text": [
      "Revocação (Recall):  0.8850574712643678 \n",
      "\n",
      "Precisão (Precision):  0.8850574712643678 \n",
      "\n",
      "Especificidade (Specificity):  0.8850574712643678 \n",
      "\n",
      "F1 Macro:  0.8850574712643678 \n",
      "\n",
      "F1 Micro:  0.8850574712643678\n"
     ]
    }
   ],
   "source": [
    "# Exibição das métricas de avaliação do modelo:\n",
    "print('Revocação (Recall): ', c_matrix[0, 0] / sum(c_matrix[0, :]), '\\n')\n",
    "print('Precisão (Precision): ', c_matrix[0, 0] / sum(c_matrix[:, 0]), '\\n')\n",
    "print('Especificidade (Specificity): ', c_matrix[1, 1] / sum(c_matrix[1, :]), '\\n')\n",
    "print('F1 Macro: ', f1_score(y, model.predict(X), average='macro'), '\\n')\n",
    "print('F1 Micro: ', f1_score(y, model.predict(X), average='micro'))"
   ]
  },
  {
   "cell_type": "markdown",
   "metadata": {},
   "source": [
    "**Comentário:** Pelos os resultados o modelo aparenta ser excelente, sendo o com as maiores métricas, dentre os modelos até então analisados."
   ]
  },
  {
   "cell_type": "code",
   "execution_count": 26,
   "metadata": {},
   "outputs": [
    {
     "data": {
      "image/png": "[encoded data removed]",
      "text/plain": [
       "<Figure size 432x288 with 1 Axes>"
      ]
     },
     "metadata": {
      "needs_background": "light"
     },
     "output_type": "display_data"
    }
   ],
   "source": [
    "# Realizando cálculo da curva ROC e métrica AUC:\n",
    "probabilidades_y = model.predict_proba(X)[::,1]\n",
    "falso_positivo, verdadeiro_positivo, _ = roc_curve(y, probabilidades_y)\n",
    "auc = roc_auc_score(y, probabilidades_y)\n",
    "\n",
    "# Visualização da curva ROC de acordo com a métrica AUC.\n",
    "plt.plot(falso_positivo, verdadeiro_positivo, label = \"AUC = \" + str(auc))\n",
    "plt.ylabel('Taxa de Positivos Verdadeiros')\n",
    "plt.xlabel('Taxa de Falsos Positivos')\n",
    "plt.legend(loc = 4)\n",
    "plt.show()"
   ]
  },
  {
   "cell_type": "markdown",
   "metadata": {},
   "source": [
    "**Comentário:** Tanto na curva ROC como na métrica AUC obtida, o resultado nos mostra que o modelo possui alta acertividade, e em comparação aos modelos até então analisados é o com o melhor resultado geral."
   ]
  },
  {
   "cell_type": "markdown",
   "metadata": {},
   "source": [
    "## Modelo Naive Bayes"
   ]
  },
  {
   "cell_type": "markdown",
   "metadata": {},
   "source": [
    "É baseado no teorema de Bayes, o que é a probabilidade de um evento ocorrer, observando o\n",
    "acontecimento de outro evento associado, gerando uma tabela de probabilidades.\n",
    "\n",
    "- Escolhemos o Naive Bayes, pois por ser característico de analisar cada variável de forma individual (por isso é chamado de \"inocente\"), não criando correlações entre elas, o que permite um resultado mais focado na solução de certos problemas.\n",
    "- Seu funcionamente consiste em encontrar uma probabilidade futura e multiplicá-la pela probabilidade passada, o que gera um resultado não normalizado da probabilidade; No final obtemos uma porcentagem da probabilidade do item que queremos descobrir.\n",
    "- Por não criar correlações não é ideal para problemas onde correlações é um fator extremamente importante, mas pode ser implementado como outro ponto de vista em análises cujo um outro método que cria ligações também esteja implementado."
   ]
  },
  {
   "cell_type": "code",
   "execution_count": 27,
   "metadata": {},
   "outputs": [
    {
     "name": "stdout",
     "output_type": "stream",
     "text": [
      "Resultados do modelo:\n",
      " [0.61904762 0.57142857 0.57142857 0.71428571 0.76190476 0.61904762\n",
      " 0.57142857 0.61904762 0.66666667 0.7       ]\n",
      "\n",
      "Média dos resultados: 0.6414285714285715\n",
      "\n",
      "Predições feitas:\n",
      " [0 0 0 1 1 0 1 1 0 1 1 0 0 0 0 0 0 0 0 0 0 0 1 0 0 0 1 0 1 0 0 0 1 1 0 0 1\n",
      " 0 0 0 0 1 0 0 1 0 1 1 0 0 0 0 0 0 0 1 1 1 0 0 0 1 0 0 1 0 0 0 0 1 0 1 0 0\n",
      " 0 0 0 1 0 1 0 0 0 0 0 0 1 1 0 0 0 1 1 1 1 1 1 0 0 0 1 1 0 0 0 0 0 0 0 1 1\n",
      " 1 0 1 0 1 1 0 0 0 0 0 0 1 0 0 0 0 0 0 0 1 1 0 0 0 0 0 0 1 1 0 0 0 1 0 0 1\n",
      " 0 0 0 1 0 1 1 0 0 1 0 0 0 0 0 0 1 0 0 0 0 1 0 0 0 1 0 0 0 0 0 0 0 0 0 1 1\n",
      " 0 0 0 0 1 0 0 0 0 1 0 0 1 1 0 0 1 1 1 0 0 1 0 0 1 0 1 0 1 0 0 0 0 1 0 0 0\n",
      " 0 1 0 0 1 1 1 0 1 0 0 0 0 0 0 0 0 1 1 0 1 0 0 0 0 0 0 0 1 0 0 0 1 0 0 0 1\n",
      " 1 0 0 1 0 0 0 0 1 0 0 0 0 0 1 0 1 0 0 1 1 0 0 0 0 1 0 0 0 1 1 0 0 0 0 1 0\n",
      " 0 0 0 0 0 1 0 0 0 0 1 0 0 1 0 0 0 0 1 0 1 1 0 0 1 0 1 0 1 1 0 1 0 0 0 1 0\n",
      " 1 0 0 0 0 1 0 0 1 0 0 0 0 1 0 1 0 1 1 0 1 1 1 0 1 0 0 1 0 1 1 0 1 1 1 1 0\n",
      " 1 1 1 0 1 1 1 1 0 1 1 0 1 0 1 1 1 0 1 1 1 0 0 1 1 1 1 1 1 1 0 0 1 1 0 0 1\n",
      " 0 1 1 1 1 1 0 1 1 1 0 0 1 0 0 1 1 1 0 1 1 1 0 1 0 1 0 1 0 1 0 1 1 0 0 0 1\n",
      " 1 1 1 1 0 1 1 1 0 0 1 1 1 0 0 0 1 1 1 1 0 1 1 1 1 1 0 0 1 1 1 0 0 1 1 1 0\n",
      " 0 1 1 1 0 1 0 1 0 1 1 1 1 1 1 0 0 0 1 1 1 0 0 0 0 1 1 0 1 1 1 1 1 1 0 1 1\n",
      " 1 1 1 1 1 1 0 1 0 1 1 0 0 1 0 1 1 1 1 0 0 0 1 0 1 1 1 1 1 1 1 0 1 1 1 1 1\n",
      " 0 1 1 1 0 1 0 1 0 1 1 0 1 1 1 1 1 1 1 0 1 0 1 1 1 0 1 1 1 1 1 1 1 0 1 0 1\n",
      " 1 0 0 0 0 0 1 0 0 0 0 0 0 0 1 1 1 1 1 0 0 1 0 0 0 1 1 1 1 0 1 0 0 1 1 0 0\n",
      " 0 1 1 1 0 0 0 1 1 0 1 1 1 0 1 0 1 0 1 1 1 0 1 1 1 0 0 1 1 1 0 0 0 0 1 1 1\n",
      " 1 0 1 0 0 0 1 1 1 1 1 0 0 0 1 1 1 1 0 0 1 1 1 0 1 1 1 1 1 0]\n"
     ]
    }
   ],
   "source": [
    "# Separação dos dados para teste e treino:\n",
    "X = dadosTreinoBalanceados.drop([85], axis=1)\n",
    "y = dadosTreinoBalanceados[85]\n",
    "X_train, X_test, y_train, y_test = train_test_split(X, y, test_size=0.3, random_state=4)\n",
    "\n",
    "# Criação e treino do modelo Naive Bayes:\n",
    "model = MultinomialNB(alpha=0.01, fit_prior=True)\n",
    "model.fit(X_train, y_train)\n",
    "nb_pred = model.predict(X)\n",
    "\n",
    "# Aplicação da validação cruzada K-Fold:\n",
    "kfold_validation = KFold(10)\n",
    "result = cross_val_score(model, X_test, y_test, cv = kfold_validation)\n",
    "\n",
    "# Exibição dos resultados da validação:\n",
    "print('Resultados do modelo:\\n', result)\n",
    "print('\\nMédia dos resultados:', np.mean(result))\n",
    "print('\\nPredições feitas:\\n', nb_pred)"
   ]
  },
  {
   "cell_type": "markdown",
   "metadata": {},
   "source": [
    "**Comentário:** Baseado nos resultados obtidos pelo valor da validação cruzada, é observado que o modelo possui a maior média de todos os modelos analisados, mesmo assim o modelo ainda está dentro dos padrões mínimos de qualidade, mas não é um resultado excepcional."
   ]
  },
  {
   "cell_type": "code",
   "execution_count": 28,
   "metadata": {},
   "outputs": [
    {
     "name": "stdout",
     "output_type": "stream",
     "text": [
      "Matriz de confusão:\n"
     ]
    },
    {
     "data": {
      "text/plain": [
       "array([[241, 107],\n",
       "       [127, 221]], dtype=int64)"
      ]
     },
     "execution_count": 28,
     "metadata": {},
     "output_type": "execute_result"
    }
   ],
   "source": [
    "# Criação da matriz de confusão:\n",
    "print('Matriz de confusão:')\n",
    "c_matrix = confusion_matrix(y, model.predict(X))\n",
    "c_matrix"
   ]
  },
  {
   "cell_type": "code",
   "execution_count": 29,
   "metadata": {},
   "outputs": [
    {
     "name": "stdout",
     "output_type": "stream",
     "text": [
      "Revocação (Recall):  0.6925287356321839 \n",
      "\n",
      "Precisão (Precision):  0.654891304347826 \n",
      "\n",
      "Especificidade (Specificity):  0.6350574712643678 \n",
      "\n",
      "F1 Macro:  0.6635152556940267 \n",
      "\n",
      "F1 Micro:  0.6637931034482759\n"
     ]
    }
   ],
   "source": [
    "# Exibição das métricas de avaliação do modelo:\n",
    "print('Revocação (Recall): ', c_matrix[0, 0] / sum(c_matrix[0, :]), '\\n')\n",
    "print('Precisão (Precision): ', c_matrix[0, 0] / sum(c_matrix[:, 0]), '\\n')\n",
    "print('Especificidade (Specificity): ', c_matrix[1, 1] / sum(c_matrix[1, :]), '\\n')\n",
    "print('F1 Macro: ', f1_score(y, model.predict(X), average='macro'), '\\n')\n",
    "print('F1 Micro: ', f1_score(y, model.predict(X), average='micro'))"
   ]
  },
  {
   "cell_type": "markdown",
   "metadata": {},
   "source": [
    "**Comentário:** Pelos os resultados o modelo aparenta ser mediano, com os resultados abaixo do modelo Árvore de Decisão, confirmando que este último é o modelo com os melhores resultados."
   ]
  },
  {
   "cell_type": "code",
   "execution_count": 30,
   "metadata": {},
   "outputs": [
    {
     "data": {
      "image/png": "[encoded data removed]",
      "text/plain": [
       "<Figure size 432x288 with 1 Axes>"
      ]
     },
     "metadata": {
      "needs_background": "light"
     },
     "output_type": "display_data"
    }
   ],
   "source": [
    "# Realizando cálculo da curva ROC e métrica AUC:\n",
    "probabilidades_y = model.predict_proba(X)[::,1]\n",
    "falso_positivo, verdadeiro_positivo, _ = roc_curve(y, probabilidades_y)\n",
    "auc = roc_auc_score(y, probabilidades_y)\n",
    "\n",
    "# Visualização da curva ROC de acordo com a métrica AUC.\n",
    "plt.plot(falso_positivo, verdadeiro_positivo, label = \"AUC = \" + str(auc))\n",
    "plt.ylabel('Taxa de Positivos Verdadeiros')\n",
    "plt.xlabel('Taxa de Falsos Positivos')\n",
    "plt.legend(loc = 4)\n",
    "plt.show()"
   ]
  },
  {
   "cell_type": "markdown",
   "metadata": {},
   "source": [
    "**Comentário:** Tanto na curva ROC como na métrica AUC obtida, o resultado nos mostra que o modelo possui aceitável acertividade, e assim como nas métricas de avaliação está abaixo do modelo Árvore de Decisão, o que confirma igualmente que este último é o melhor modelo nesta métrica."
   ]
  },
  {
   "cell_type": "markdown",
   "metadata": {},
   "source": [
    "# Modelo escolhido"
   ]
  },
  {
   "cell_type": "markdown",
   "metadata": {},
   "source": [
    "Tendo em vista os modelos analisados, o melhor resultado é o Naive Bayes, contudo conforme explicamos acima, este modelo em específico não faz a correlação entre as variáveis dadas, o que vemos como estritamente necessário para uma boa avaliação. Portanto, escolhemos o modelo Árvore de Decisão, pois apesar de não possuir a maior média em em validação cruzada, possui as maiores métricas de avaliação, curva ROC e métrica AUC."
   ]
  },
  {
   "cell_type": "markdown",
   "metadata": {},
   "source": [
    "# Aplicação nos Dados de Validação"
   ]
  },
  {
   "cell_type": "code",
   "execution_count": 43,
   "metadata": {},
   "outputs": [
    {
     "name": "stdout",
     "output_type": "stream",
     "text": [
      "Resultados do modelo:\n",
      " [0.925      0.88333333 0.875      0.825      0.9        0.85\n",
      " 0.91666667 0.85833333 0.875      0.9       ]\n",
      "\n",
      "Média dos resultados: 0.8808333333333334\n",
      "\n",
      "Predições feitas:\n",
      " [0 1 0 ... 0 0 0]\n"
     ]
    }
   ],
   "source": [
    "# Separação dos dados para teste e treino:\n",
    "X = dadosValidacao\n",
    "y = dadosClassificao\n",
    "X_train, X_test, y_train, y_test = train_test_split(X, y, test_size=0.3, random_state=4)\n",
    "\n",
    "# Criação e treino do modelo da Árvore de Decisão:\n",
    "model = DecisionTreeClassifier()\n",
    "model.fit(X_train, y_train)\n",
    "val_pred = model.predict(X)\n",
    "\n",
    "# Aplicação da validação cruzada K-Fold:\n",
    "kfold_validation = KFold(10)\n",
    "result = cross_val_score(model, X_test, y_test, cv = kfold_validation)\n",
    "\n",
    "# Exibição dos resultados da validação:\n",
    "print('Resultados do modelo:\\n', result)\n",
    "print('\\nMédia dos resultados:', np.mean(result))\n",
    "print('\\nPredições feitas:\\n', val_pred)"
   ]
  },
  {
   "cell_type": "markdown",
   "metadata": {},
   "source": [
    "**Comentário:** Baseado nos resultados obtidos pelo valor da validação cruzada, podemos visualizar que há um aumento comparado com os dados de teste, possuindo uma média que pode ser considerada como excelente."
   ]
  },
  {
   "cell_type": "code",
   "execution_count": 44,
   "metadata": {},
   "outputs": [
    {
     "name": "stdout",
     "output_type": "stream",
     "text": [
      "Matriz de confusão:\n"
     ]
    },
    {
     "data": {
      "text/plain": [
       "array([[3687,   75],\n",
       "       [  82,  156]], dtype=int64)"
      ]
     },
     "execution_count": 44,
     "metadata": {},
     "output_type": "execute_result"
    }
   ],
   "source": [
    "# Criação da matriz de confusão:\n",
    "print('Matriz de confusão:')\n",
    "c_matrix = confusion_matrix(y, model.predict(X))\n",
    "c_matrix"
   ]
  },
  {
   "cell_type": "code",
   "execution_count": 45,
   "metadata": {},
   "outputs": [
    {
     "name": "stdout",
     "output_type": "stream",
     "text": [
      "Revocação (Recall):  0.9800637958532695 \n",
      "\n",
      "Precisão (Precision):  0.9782435659326081 \n",
      "\n",
      "Especificidade (Specificity):  0.6554621848739496 \n",
      "\n",
      "F1 Macro:  0.8221990187537567 \n",
      "\n",
      "F1 Micro:  0.96075\n"
     ]
    }
   ],
   "source": [
    "# Exibição das métricas de avaliação do modelo:\n",
    "print('Revocação (Recall): ', c_matrix[0, 0] / sum(c_matrix[0, :]), '\\n')\n",
    "print('Precisão (Precision): ', c_matrix[0, 0] / sum(c_matrix[:, 0]), '\\n')\n",
    "print('Especificidade (Specificity): ', c_matrix[1, 1] / sum(c_matrix[1, :]), '\\n')\n",
    "print('F1 Macro: ', f1_score(y, model.predict(X), average='macro'), '\\n')\n",
    "print('F1 Micro: ', f1_score(y, model.predict(X), average='micro'))"
   ]
  },
  {
   "cell_type": "markdown",
   "metadata": {},
   "source": [
    "**Comentário:** Pelos os resultados o modelo aparenta ser excelente, com a Revocação sendo praticamente ideal cojuntamente com a Precisão; a especificidade é mediana o que indica que a maior parte das amostras negativas foram classificadas como falsas, mas pode ocorrer de alguma destas serem classificadas como positivas. As F1 Macro e Micro nos mostra que o modelo está predigindo os verdadeiros e falsos de forma correta, com uma boa taxa de acerto. "
   ]
  },
  {
   "cell_type": "code",
   "execution_count": 46,
   "metadata": {},
   "outputs": [
    {
     "data": {
      "image/png": "[encoded data removed]",
      "text/plain": [
       "<Figure size 432x288 with 1 Axes>"
      ]
     },
     "metadata": {
      "needs_background": "light"
     },
     "output_type": "display_data"
    }
   ],
   "source": [
    "# Realizando cálculo da curva ROC e métrica AUC:\n",
    "probabilidades_y = model.predict_proba(X)[::,1]\n",
    "falso_positivo, verdadeiro_positivo, _ = roc_curve(y, probabilidades_y)\n",
    "auc = roc_auc_score(y, probabilidades_y)\n",
    "\n",
    "# Visualização da curva ROC de acordo com a métrica AUC.\n",
    "plt.plot(falso_positivo, verdadeiro_positivo, label = \"AUC = \" + str(auc))\n",
    "plt.ylabel('Taxa de Positivos Verdadeiros')\n",
    "plt.xlabel('Taxa de Falsos Positivos')\n",
    "plt.legend(loc = 4)\n",
    "plt.show()"
   ]
  },
  {
   "cell_type": "markdown",
   "metadata": {},
   "source": [
    "**Comentário:** Ambas, a curva ROC e a métrica AUC obtidas, nos indicam que possuem alta taxa de acerto nos mostrando que o modelo é excelente, porém não é o mais correto possível (Métrica 0.99 de acertos)."
   ]
  },
  {
   "cell_type": "markdown",
   "metadata": {},
   "source": [
    "# Referências"
   ]
  },
  {
   "cell_type": "markdown",
   "metadata": {},
   "source": [
    "- [Stack Overflow Loading TXT with Pandas](https://stackoverflow.com/questions/21546739/load-data-from-txt-with-pandas)\n",
    "- [Vitalflux Hold-out Method for Training Machine Learning Models](https://vitalflux.com/hold-out-method-for-training-machine-learning-model/)\n",
    "- [Statology K-Fold Cross Validation](https://www.statology.org/k-fold-cross-validation-in-python/)\n",
    "- [Statology Leave-one-out (LOO) Cross Validation](https://www.statology.org/leave-one-out-cross-validation-in-python/)\n",
    "- [Skelearn Feature Select](https://scikit-learn.org/stable/modules/feature_selection.html)\n",
    "- [Machine Learning Mastery K-Fold](https://machinelearningmastery.com/how-to-configure-k-fold-cross-validation/)\n",
    "- [Machine Learning Knowledge Cross Validation](https://machinelearningknowledge.ai/cross-validation-in-sklearn-hold-out-approach-k-fold-cross-validation-loocv/)\n",
    "- [Towards Data Science Machine Learning Classification](https://towardsdatascience.com/evaluating-machine-learning-classification-problems-in-python-5-1-metrics-that-matter-792c6faddf5)\n",
    "- [Skelearn Metrics F1 Score](https://scikit-learn.org/stable/modules/generated/sklearn.metrics.f1_score.html)\n",
    "- [Regressão Logísticas e suas aplicações](https://monografias.ufma.br/jspui/bitstream/123456789/3572/1/LEANDRO-GONZALEZ.pdf)\n",
    "- [Cross Validation Paper](https://web.archive.org/web/20110905044421/http://www.public.asu.edu/~ltang9/papers/ency-cross-validation.pdf)\n",
    "- [Inferir: Algorítmo kNN para classificação](https://inferir.com.br/artigos/algoritimo-knn-para-classificacao/)\n",
    "- [Organica Digital: Algorítmo de classificação Naive Bayes](https://www.organicadigital.com/blog/algoritmo-de-classificacao-naive-bayes/)\n",
    "- [Towards Data Science F1-Score Explained](https://towardsdatascience.com/micro-macro-weighted-averages-of-f1-score-clearly-explained-b603420b292f)\n",
    "- [Vitor Rodrigues: Métricas de Avaliação](https://vitorborbarodrigues.medium.com/m%C3%A9tricas-de-avalia%C3%A7%C3%A3o-acur%C3%A1cia-precis%C3%A3o-recall-quais-as-diferen%C3%A7as-c8f05e0a513c)\n",
    "- [Organica Digital: Algorítmo de Classificação Naive Bayes](https://www.organicadigital.com/blog/algoritmo-de-classificacao-naive-bayes/)\n",
    "- [Medium: Árvores de Decisão](https://medium.com/machine-learning-beyond-deep-learning/%C3%A1rvores-de-decis%C3%A3o-3f52f6420b69)\n",
    "- [Medium: kNN](https://medium.com/turing-talks/turing-talks-13-modelo-de-predi%C3%A7%C3%A3o-knn-3be880c9b9d1)\n",
    "- [Medium: Regressão Logística](https://medium.com/@msremigio/regress%C3%A3o-log%C3%ADstica-logistic-regression-997c6259ff9a)"
   ]
  }
 ],
 "metadata": {
  "interpreter": {
   "hash": "45c91a70b04ec8d23d4bf485d6e4c69b7353ab8cf3a98e9a97422378c5c01fb8"
  },
  "kernelspec": {
   "display_name": "Python 3.9.7 ('base')",
   "language": "python",
   "name": "python3"
  },
  "language_info": {
   "codemirror_mode": {
    "name": "ipython",
    "version": 3
   },
   "file_extension": ".py",
   "mimetype": "text/x-python",
   "name": "python",
   "nbconvert_exporter": "python",
   "pygments_lexer": "ipython3",
   "version": "3.9.7"
  },
  "orig_nbformat": 4
 },
 "nbformat": 4,
 "nbformat_minor": 2
}
